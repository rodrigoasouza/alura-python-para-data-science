{
  "nbformat": 4,
  "nbformat_minor": 0,
  "metadata": {
    "colab": {
      "name": "lesson_003.ipynb",
      "provenance": []
    },
    "kernelspec": {
      "name": "python3",
      "display_name": "Python 3"
    },
    "language_info": {
      "name": "python"
    }
  },
  "cells": [
    {
      "cell_type": "markdown",
      "source": [
        "# Lesson 3\n",
        "## List, looping and boolean type"
      ],
      "metadata": {
        "id": "UDe0t755_PVG"
      }
    },
    {
      "cell_type": "code",
      "execution_count": 55,
      "metadata": {
        "id": "dsaQv5sJ-rfo"
      },
      "outputs": [],
      "source": [
        "numbers = [9, 14, 15, 18, 19, 20, 33, 42, 51]"
      ]
    },
    {
      "cell_type": "code",
      "source": [
        "def greater_than_20(numbers):\n",
        "  for number in numbers:\n",
        "    if number > 20:\n",
        "      print(f'{number} greater than 20')\n",
        "    else:\n",
        "      print(f'{number} is not greater than 20')"
      ],
      "metadata": {
        "id": "D3xGb86GHCzb"
      },
      "execution_count": 56,
      "outputs": []
    },
    {
      "cell_type": "code",
      "source": [
        "greater_than_20(numbers)"
      ],
      "metadata": {
        "colab": {
          "base_uri": "https://localhost:8080/"
        },
        "id": "fb9eufTlGsFg",
        "outputId": "81371484-0b70-4201-ae7b-490e1d3e6523"
      },
      "execution_count": 57,
      "outputs": [
        {
          "output_type": "stream",
          "name": "stdout",
          "text": [
            "9 is not greater than 20\n",
            "14 is not greater than 20\n",
            "15 is not greater than 20\n",
            "18 is not greater than 20\n",
            "19 is not greater than 20\n",
            "20 is not greater than 20\n",
            "33 greater than 20\n",
            "42 greater than 20\n",
            "51 greater than 20\n"
          ]
        }
      ]
    },
    {
      "cell_type": "markdown",
      "source": [
        "### Alura's slogan"
      ],
      "metadata": {
        "id": "IQXy3UAwLjaZ"
      }
    },
    {
      "cell_type": "code",
      "source": [
        "#Technology and Digital Business Courses\n",
        "\n",
        "Aluras_slogan = ['Digital ', 'and ', 'Business ', 'Technology ', 'Courses']\n",
        "Aluras_slogan[-2] + Aluras_slogan[-4] + Aluras_slogan[0] + Aluras_slogan[2] + Aluras_slogan[4]"
      ],
      "metadata": {
        "colab": {
          "base_uri": "https://localhost:8080/",
          "height": 35
        },
        "id": "g5JCWLE5LW5X",
        "outputId": "9a7ffb35-90a7-4cf2-85e0-de3369edc966"
      },
      "execution_count": 58,
      "outputs": [
        {
          "output_type": "execute_result",
          "data": {
            "text/plain": [
              "'Technology and Digital Business Courses'"
            ],
            "application/vnd.google.colaboratory.intrinsic+json": {
              "type": "string"
            }
          },
          "metadata": {},
          "execution_count": 58
        }
      ]
    },
    {
      "cell_type": "markdown",
      "source": [
        "### What value of a?"
      ],
      "metadata": {
        "id": "YZ79U-d8MUTD"
      }
    },
    {
      "cell_type": "code",
      "source": [
        "a=2\n",
        "\n",
        "if a < 2:\n",
        " a = a + 1\n",
        "else:\n",
        " a = a + 2\n",
        "\n",
        "if a < 4:\n",
        " a = a - 4\n",
        "else:\n",
        " a = a + 6\n",
        "\n",
        "a"
      ],
      "metadata": {
        "colab": {
          "base_uri": "https://localhost:8080/"
        },
        "id": "sapaKxPiMTPW",
        "outputId": "2f79dba2-8fa0-48b9-a3cb-0f9304474dbf"
      },
      "execution_count": 59,
      "outputs": [
        {
          "output_type": "execute_result",
          "data": {
            "text/plain": [
              "10"
            ]
          },
          "metadata": {},
          "execution_count": 59
        }
      ]
    }
  ]
}