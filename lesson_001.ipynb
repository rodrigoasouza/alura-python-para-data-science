{
  "cells": [
    {
      "cell_type": "markdown",
      "metadata": {
        "id": "igjOL264OfyM"
      },
      "source": [
        "# Lesson 1\n",
        "## High-level language and function"
      ]
    },
    {
      "cell_type": "code",
      "execution_count": 1,
      "metadata": {
        "id": "C4k8vL8cOJbm"
      },
      "outputs": [],
      "source": [
        "def greeting():\n",
        "  name = input('What is your name? ')\n",
        "  print(f'Hello {name}')"
      ]
    },
    {
      "cell_type": "code",
      "execution_count": 2,
      "metadata": {
        "colab": {
          "base_uri": "https://localhost:8080/"
        },
        "id": "PyhQfR-ROe3_",
        "outputId": "6fd0d3fd-1244-412c-b127-82eace3f1016"
      },
      "outputs": [
        {
          "name": "stdout",
          "output_type": "stream",
          "text": [
            "Hello Rodrigo Souza\n"
          ]
        }
      ],
      "source": [
        "greeting()"
      ]
    }
  ],
  "metadata": {
    "colab": {
      "collapsed_sections": [],
      "name": "Lesson-001.ipynb",
      "provenance": [],
      "toc_visible": true
    },
    "kernelspec": {
      "display_name": "Python 3.10.4 64-bit",
      "language": "python",
      "name": "python3"
    },
    "language_info": {
      "codemirror_mode": {
        "name": "ipython",
        "version": 3
      },
      "file_extension": ".py",
      "mimetype": "text/x-python",
      "name": "python",
      "nbconvert_exporter": "python",
      "pygments_lexer": "ipython3",
      "version": "3.10.4"
    },
    "vscode": {
      "interpreter": {
        "hash": "6e3977c52f5249dbc2a33b897faad1e0916758085298811edbd14ed6ad707d81"
      }
    }
  },
  "nbformat": 4,
  "nbformat_minor": 0
}
