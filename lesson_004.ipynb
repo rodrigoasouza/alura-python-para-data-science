{
  "nbformat": 4,
  "nbformat_minor": 0,
  "metadata": {
    "colab": {
      "name": "lesson_004.ipynb",
      "provenance": []
    },
    "kernelspec": {
      "name": "python3",
      "display_name": "Python 3"
    },
    "language_info": {
      "name": "python"
    }
  },
  "cells": [
    {
      "cell_type": "markdown",
      "source": [
        "# Lesson 4\n",
        "## The Import System"
      ],
      "metadata": {
        "id": "7HSjKOAPPY2G"
      }
    },
    {
      "cell_type": "markdown",
      "source": [
        "### Types"
      ],
      "metadata": {
        "id": "Favzi-TNVLOI"
      }
    },
    {
      "cell_type": "code",
      "source": [
        "def print_value_and_type(value):\n",
        "  type_of_value = type(value)\n",
        "  print(f'Value = {value} | Type = {type_of_value}')"
      ],
      "metadata": {
        "id": "gf_26_hYVdNl"
      },
      "execution_count": 55,
      "outputs": []
    },
    {
      "cell_type": "code",
      "source": [
        "print_value_and_type(42)\n",
        "print_value_and_type(24.69)\n",
        "print_value_and_type('Hello world')\n",
        "print_value_and_type(True)\n",
        "print_value_and_type([])"
      ],
      "metadata": {
        "colab": {
          "base_uri": "https://localhost:8080/"
        },
        "id": "aIytxCWYWeF6",
        "outputId": "0e620251-2b8f-4de1-bdb9-b22f8635c195"
      },
      "execution_count": 56,
      "outputs": [
        {
          "output_type": "stream",
          "name": "stdout",
          "text": [
            "Value = 42 | Type = <class 'int'>\n",
            "Value = 24.69 | Type = <class 'float'>\n",
            "Value = Hello world | Type = <class 'str'>\n",
            "Value = True | Type = <class 'bool'>\n",
            "Value = [] | Type = <class 'list'>\n"
          ]
        }
      ]
    },
    {
      "cell_type": "markdown",
      "source": [
        "### Imports"
      ],
      "metadata": {
        "id": "CvAx5DehcBpI"
      }
    },
    {
      "cell_type": "code",
      "source": [
        "from random import randrange, seed"
      ],
      "metadata": {
        "id": "cYx3dlj1cEQi"
      },
      "execution_count": 57,
      "outputs": []
    },
    {
      "cell_type": "code",
      "source": [
        "seed(69)\n",
        "random_numbers = []\n",
        "\n",
        "for i in range(10):\n",
        "  random = randrange(1, 11)\n",
        "  random_numbers.append(random)\n",
        "  \n",
        "  position_format = str(i + 1).rjust(2, '0')\n",
        "  random_format = str(random).rjust(2, '0')\n",
        "  print(f'{position_format}.: {random_format}')\n",
        "random_numbers"
      ],
      "metadata": {
        "colab": {
          "base_uri": "https://localhost:8080/"
        },
        "id": "wbDsd_aQcN7p",
        "outputId": "35750c24-3739-4367-eba3-b0f398ae53c6"
      },
      "execution_count": 58,
      "outputs": [
        {
          "output_type": "stream",
          "name": "stdout",
          "text": [
            "01.: 01\n",
            "02.: 02\n",
            "03.: 03\n",
            "04.: 02\n",
            "05.: 10\n",
            "06.: 06\n",
            "07.: 06\n",
            "08.: 09\n",
            "09.: 07\n",
            "10.: 08\n"
          ]
        },
        {
          "output_type": "execute_result",
          "data": {
            "text/plain": [
              "[1, 2, 3, 2, 10, 6, 6, 9, 7, 8]"
            ]
          },
          "metadata": {},
          "execution_count": 58
        }
      ]
    },
    {
      "cell_type": "code",
      "source": [
        "len(random_numbers)"
      ],
      "metadata": {
        "colab": {
          "base_uri": "https://localhost:8080/"
        },
        "id": "tUCkTb80ccZS",
        "outputId": "079f6586-7f84-46f0-b0ed-b14f9804acea"
      },
      "execution_count": 59,
      "outputs": [
        {
          "output_type": "execute_result",
          "data": {
            "text/plain": [
              "10"
            ]
          },
          "metadata": {},
          "execution_count": 59
        }
      ]
    },
    {
      "cell_type": "markdown",
      "source": [
        "### Lists in Python"
      ],
      "metadata": {
        "id": "Un3_XNDdnVSw"
      }
    },
    {
      "cell_type": "code",
      "source": [
        "items = ['int', False, 0.7, 2022]"
      ],
      "metadata": {
        "id": "pxmDWORLnbJJ"
      },
      "execution_count": 60,
      "outputs": []
    },
    {
      "cell_type": "code",
      "source": [
        "for item in items:\n",
        " print(type(item))"
      ],
      "metadata": {
        "colab": {
          "base_uri": "https://localhost:8080/"
        },
        "id": "7t90yo9inn6h",
        "outputId": "20b1a249-35f8-4efb-a4c3-732202f8259f"
      },
      "execution_count": 61,
      "outputs": [
        {
          "output_type": "stream",
          "name": "stdout",
          "text": [
            "<class 'str'>\n",
            "<class 'bool'>\n",
            "<class 'float'>\n",
            "<class 'int'>\n"
          ]
        }
      ]
    }
  ]
}